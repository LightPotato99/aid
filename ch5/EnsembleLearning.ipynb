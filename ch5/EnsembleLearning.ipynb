{
  "nbformat": 4,
  "nbformat_minor": 0,
  "metadata": {
    "colab": {
      "provenance": []
    },
    "kernelspec": {
      "name": "python3",
      "display_name": "Python 3"
    },
    "language_info": {
      "name": "python"
    }
  },
  "cells": [
    {
      "cell_type": "markdown",
      "source": [
        "**정형 데이터**<br>\n",
        "엑셀 파일과 같이 정리된 형태로 되어 있는 데이터<br>\n",
        "앙상블 학습을 주로 사용<br>\n",
        "**비정형 데이터**<br>\n",
        "정리된 형태로 표현하기 어려운 데이터, 글/그림/음악 등<br>\n",
        "신경망 알고리즘을 주로 사용"
      ],
      "metadata": {
        "id": "omfLUTcSOoLK"
      }
    },
    {
      "cell_type": "markdown",
      "source": [
        "**랜덤 포레스트**<br>\n",
        "결정 트리를 랜덤하게 만들어 트리의 숲을 만듦<br>\n",
        "1. 부트스트랩 샘플 생성\n",
        "2. 노드 분할 시, 일부 특성을 무작위로 골라 그 중 최선의 분할을 찾음\n",
        " - RandomForestClassifier: $\\sqrt{특성개수}$ 만큼의 특성 선택\n",
        " - RandomForestRegressor: 전체 특성 사용\n",
        "3. 각 결정 트리의 예측을 사용해 최종 예측\n",
        " - 분류: 가장 높은 확률을 가진 클래스\n",
        " - 회귀: 각 트리의 예측 평균\n",
        "\n",
        "**부트스트랩 샘플**<br>\n",
        "데이터 세트에서 랜덤하게 뽑아서 샘플을 만드는데, 중복을 허용함"
      ],
      "metadata": {
        "id": "hN72ySvfPMjc"
      }
    },
    {
      "cell_type": "code",
      "source": [
        "import numpy as np\n",
        "import pandas as pd\n",
        "from sklearn.model_selection import train_test_split\n",
        "from sklearn.model_selection import cross_validate\n",
        "from sklearn.ensemble import RandomForestClassifier\n",
        "from sklearn.ensemble import ExtraTreesClassifier\n",
        "from sklearn.ensemble import GradientBoostingClassifier\n",
        "from sklearn.ensemble import HistGradientBoostingClassifier\n",
        "from sklearn.experimental import enable_hist_gradient_boosting\n",
        "from sklearn.inspection import permutation_importance\n",
        "from xgboost import XGBClassifier\n",
        "from lightgbm import LGBMClassifier"
      ],
      "metadata": {
        "id": "rSW-GsjCSf1s"
      },
      "execution_count": 11,
      "outputs": []
    },
    {
      "cell_type": "code",
      "source": [
        "wine = pd.read_csv('https://bit.ly/wine_csv_data')\n",
        "data = wine[['alcohol','sugar','pH']].to_numpy()\n",
        "target = wine['class'].to_numpy()\n",
        "train_input, test_input, train_target, test_target = train_test_split(data, target, test_size=0.2, random_state=42)"
      ],
      "metadata": {
        "id": "foMoC2FeS0LQ"
      },
      "execution_count": 2,
      "outputs": []
    },
    {
      "cell_type": "code",
      "source": [
        "rf = RandomForestClassifier(n_jobs=-1, random_state=42)\n",
        "scores = cross_validate(rf, train_input, train_target, return_train_score=True, n_jobs=-1)\n",
        "print(np.mean(scores['train_score']), np.mean(scores['test_score']))"
      ],
      "metadata": {
        "colab": {
          "base_uri": "https://localhost:8080/"
        },
        "id": "Bv3WDgPgTOCk",
        "outputId": "5961c541-7236-4fcc-9a44-01edd084f1bd"
      },
      "execution_count": 3,
      "outputs": [
        {
          "output_type": "stream",
          "name": "stdout",
          "text": [
            "0.9973541965122431 0.8905151032797809\n"
          ]
        }
      ]
    },
    {
      "cell_type": "markdown",
      "source": [
        "**랜덤 포레스트의 특성 중요도**<br>\n",
        "각 결정 트리에서 나온 특성 중요도를 취합<br>\n",
        "특성의 일부를 랜덤 선택하여 결정 트리를 훈련하므로, 더 많은 종류의 특성이 훈련에 기여할 수 있음<br>\n",
        "과대적합 방지, 일반화 성능 상승<br>"
      ],
      "metadata": {
        "id": "smPz8a93TwFZ"
      }
    },
    {
      "cell_type": "code",
      "source": [
        "rf.fit(train_input, train_target)\n",
        "print(rf.feature_importances_)"
      ],
      "metadata": {
        "colab": {
          "base_uri": "https://localhost:8080/"
        },
        "id": "sfCI0KJkUeSR",
        "outputId": "7573657f-9ea1-4211-afcf-9a8336ced2b9"
      },
      "execution_count": 4,
      "outputs": [
        {
          "output_type": "stream",
          "name": "stdout",
          "text": [
            "[0.23167441 0.50039841 0.26792718]\n"
          ]
        }
      ]
    },
    {
      "cell_type": "markdown",
      "source": [
        "**OOB 샘플**<br>\n",
        "부트스트랩 샘플에 포함되지 않고 남는 샘플<br>\n",
        "이걸 사용하여 자체적으로 모델 평가"
      ],
      "metadata": {
        "id": "KTWAUiwpUetX"
      }
    },
    {
      "cell_type": "code",
      "source": [
        "rf = RandomForestClassifier(oob_score=True, n_jobs=-1, random_state=42)\n",
        "rf.fit(train_input, train_target)\n",
        "print(rf.oob_score_)"
      ],
      "metadata": {
        "colab": {
          "base_uri": "https://localhost:8080/"
        },
        "id": "RrlWUlTNUlNc",
        "outputId": "786dee59-fedb-44df-b551-3bb18afc147a"
      },
      "execution_count": 5,
      "outputs": [
        {
          "output_type": "stream",
          "name": "stdout",
          "text": [
            "0.8934000384837406\n"
          ]
        }
      ]
    },
    {
      "cell_type": "markdown",
      "source": [
        "**엑스트라 트리**<br>\n",
        "랜덤 포레스트와 달리, 부트스트랩 샘플 미사용 & 노드 분할 시 무작위 분할"
      ],
      "metadata": {
        "id": "MljI_KI6WN6X"
      }
    },
    {
      "cell_type": "code",
      "source": [
        "et = ExtraTreesClassifier(n_jobs=-1, random_state=42)\n",
        "scores = cross_validate(et, train_input, train_target, return_train_score=True, n_jobs=-1)\n",
        "print(np.mean(scores['train_score']), np.mean(scores['test_score']))"
      ],
      "metadata": {
        "colab": {
          "base_uri": "https://localhost:8080/"
        },
        "id": "xpzAf6d0Wd1N",
        "outputId": "55a7c57c-ac4b-4941-d967-c5ee12cae204"
      },
      "execution_count": 6,
      "outputs": [
        {
          "output_type": "stream",
          "name": "stdout",
          "text": [
            "0.9974503966084433 0.8887848893166506\n"
          ]
        }
      ]
    },
    {
      "cell_type": "markdown",
      "source": [
        "**그래디언트 부스팅**<br>\n",
        "깊이가 얕은 결정 트리를 사용하여 경사 하강법을 수행<br>\n",
        "일반적으로 과대적합에 강함 -> 높은 일반화 성능\n",
        "일부 특성에 더 집중하는 경향이 있음"
      ],
      "metadata": {
        "id": "AOb7B-PcW9By"
      }
    },
    {
      "cell_type": "code",
      "source": [
        "gb = GradientBoostingClassifier(random_state=42)\n",
        "scores = cross_validate(gb, train_input, train_target, return_train_score=True, n_jobs=-1)\n",
        "print(np.mean(scores['train_score']), np.mean(scores['test_score']))"
      ],
      "metadata": {
        "colab": {
          "base_uri": "https://localhost:8080/"
        },
        "id": "8FijbvPuXafj",
        "outputId": "73791232-f4db-4af9-dabc-55a3a3f0f647"
      },
      "execution_count": 7,
      "outputs": [
        {
          "output_type": "stream",
          "name": "stdout",
          "text": [
            "0.8881086892152563 0.8720430147331015\n"
          ]
        }
      ]
    },
    {
      "cell_type": "code",
      "source": [
        "gb = GradientBoostingClassifier(n_estimators=500, learning_rate=0.2, random_state=42) #n_estimators: 결정 트리 개수 (subsamples: 트리 훈련에 사용될 훈련 세트의 비율 정함, def=1.0)\n",
        "scores = cross_validate(gb, train_input, train_target, return_train_score=True, n_jobs=-1)\n",
        "print(np.mean(scores['train_score']), np.mean(scores['test_score']))\n",
        "gb.fit(train_input, train_target)\n",
        "print(gb.feature_importances_)"
      ],
      "metadata": {
        "colab": {
          "base_uri": "https://localhost:8080/"
        },
        "id": "J5qn3oEDX1DH",
        "outputId": "5790a178-32f6-4b48-ad44-00e9910c5703"
      },
      "execution_count": 8,
      "outputs": [
        {
          "output_type": "stream",
          "name": "stdout",
          "text": [
            "0.9464595437171814 0.8780082549788999\n",
            "[0.15872278 0.68010884 0.16116839]\n"
          ]
        }
      ]
    },
    {
      "cell_type": "markdown",
      "source": [
        "**히스토그램 기반 그레이디언트 부스팅**<br>\n",
        "1. 입력 특성을 256개의 구간으로 나눔 -> 최적의 분할 빠르게 찾기\n",
        "2. 256개의 구간 중 1개를 떼서 누락된 값을 위해 사용"
      ],
      "metadata": {
        "id": "B5tzXcpdYnW3"
      }
    },
    {
      "cell_type": "code",
      "source": [
        "hgb = HistGradientBoostingClassifier(random_state=42)\n",
        "scores = cross_validate(hgb, train_input, train_target, return_train_score=True)\n",
        "print(np.mean(scores['train_score']), np.mean(scores['test_score']))"
      ],
      "metadata": {
        "id": "ohdRgAzPZT3A",
        "colab": {
          "base_uri": "https://localhost:8080/"
        },
        "outputId": "e4c6d83c-13cf-40ee-fa74-f1a28ffb2776"
      },
      "execution_count": 9,
      "outputs": [
        {
          "output_type": "stream",
          "name": "stdout",
          "text": [
            "0.9321723946453317 0.8801241948619236\n"
          ]
        }
      ]
    },
    {
      "cell_type": "markdown",
      "source": [
        "**permutation_importance**<br>\n",
        "특성을 랜덤하게 섞어, 모델이 성능이 변화하는지 관찰하면서 어떤 특성이 중요한지 계산"
      ],
      "metadata": {
        "id": "7Q3pc0v-MvwF"
      }
    },
    {
      "cell_type": "code",
      "source": [
        "hgb.fit(train_input,train_target)\n",
        "result = permutation_importance(hgb, train_input, train_target, n_repeats=10, random_state=42, n_jobs=-1) #train\n",
        "print(result.importances_mean)\n",
        "result = permutation_importance(hgb, test_input, test_target, n_repeats=10, random_state=42, n_jobs=-1) #test\n",
        "print(result.importances_mean)"
      ],
      "metadata": {
        "colab": {
          "base_uri": "https://localhost:8080/"
        },
        "id": "jlq4kikMM9yJ",
        "outputId": "89d4a38e-b138-4dd0-bf86-bc7a03c5f46b"
      },
      "execution_count": 10,
      "outputs": [
        {
          "output_type": "stream",
          "name": "stdout",
          "text": [
            "[0.08876275 0.23438522 0.08027708]\n"
          ]
        }
      ]
    },
    {
      "cell_type": "markdown",
      "source": [
        "**XGBoost**<br>\n",
        "다양한 부스팅 알고리즘 지원<br>\n",
        "**LightGBM**<br>\n",
        "히스토그램 기반 그레이디언트 부스팅 라이브러리"
      ],
      "metadata": {
        "id": "R5GKEsKeN_Sr"
      }
    },
    {
      "cell_type": "code",
      "source": [
        "xgb = XGBClassifier(tree_method='hist', random_state=42)\n",
        "scores = cross_validate(xgb, train_input, train_target, return_train_score=True)\n",
        "print(np.mean(scores['train_score']), np.mean(scores['test_score']))"
      ],
      "metadata": {
        "id": "Y8Kn5nvFOTQS"
      },
      "execution_count": null,
      "outputs": []
    },
    {
      "cell_type": "code",
      "source": [
        "lgb = LGBMClassifier(random_state=42)\n",
        "scores = cross_validate(lgb, train_input, train_target, return_train_score=True, n_jobs=-1)\n",
        "print(np.mean(scores['train_score']), np.mean(scores['test_score']))"
      ],
      "metadata": {
        "id": "BpXOC3uyOlRv"
      },
      "execution_count": null,
      "outputs": []
    }
  ]
}