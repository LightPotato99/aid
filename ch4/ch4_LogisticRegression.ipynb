{
  "nbformat": 4,
  "nbformat_minor": 0,
  "metadata": {
    "colab": {
      "provenance": [],
      "toc_visible": true
    },
    "kernelspec": {
      "name": "python3",
      "display_name": "Python 3"
    },
    "language_info": {
      "name": "python"
    }
  },
  "cells": [
    {
      "cell_type": "markdown",
      "source": [
        "k-최근접 이웃 알고리즘: 테스트 데이터랑 가장 가까운 데이터 n개를 바탕으로 어디에 속하는지 알아냄 (from ch.1)<p>\n",
        "가장 가까운 샘플 몇 개를 구해서 이를 확률로 삼을 수 있음"
      ],
      "metadata": {
        "id": "Py8YMH7TCrqP"
      }
    },
    {
      "cell_type": "code",
      "execution_count": null,
      "metadata": {
        "id": "P048iIXoBGMU"
      },
      "outputs": [],
      "source": [
        "import pandas as pd\n",
        "import numpy as np\n",
        "import matplotlib.pyplot as plt\n",
        "from sklearn.model_selection import train_test_split\n",
        "from sklearn.preprocessing import StandardScaler\n",
        "from sklearn.neighbors import KNeighborsClassifier\n",
        "from sklearn.linear_model import LogisticRegression\n",
        "from scipy.special import expit\n",
        "from scipy.special import softmax"
      ]
    },
    {
      "cell_type": "markdown",
      "source": [
        "데이터 준비"
      ],
      "metadata": {
        "id": "dHn6HUNyFWMY"
      }
    },
    {
      "cell_type": "code",
      "source": [
        "fish = pd.read_csv('https://bit.ly/fish_csv_data')\n",
        "fish.head()   #head(): 처음 5개 행 출력\n",
        "fish_input = fish[['Weight','Length','Diagonal','Height','Width']].to_numpy()\n",
        "fish_target = fish['Species'].to_numpy()\n",
        "train_input, test_input, train_target, test_target = train_test_split(fish_input, fish_target, random_state=42)\n",
        "\n",
        "ss = StandardScaler()\n",
        "ss.fit(train_input)\n",
        "train_scaled = ss.transform(train_input)\n",
        "test_scaled = ss.transform(test_input)"
      ],
      "metadata": {
        "id": "Pm74EnghBzjv"
      },
      "execution_count": null,
      "outputs": []
    },
    {
      "cell_type": "code",
      "source": [
        "print(pd.unique(fish['Species']))             #unique(): 열에서 고유한 값 출력"
      ],
      "metadata": {
        "id": "6T4_KjAWDUrt"
      },
      "execution_count": null,
      "outputs": []
    },
    {
      "cell_type": "markdown",
      "source": [
        "타깃 데이터에 2개 이상의 클래스가 포함된 문제: **다중 분류**"
      ],
      "metadata": {
        "id": "smR25DpVGccK"
      }
    },
    {
      "cell_type": "code",
      "source": [
        "kn = KNeighborsClassifier(n_neighbors=3)\n",
        "kn.fit(train_scaled, train_target)\n",
        "#print(kn.score(train_scaled, train_target))\n",
        "#print(kn.score(test_scaled, test_target))\n",
        "print(kn.classes_)\n",
        "print(kn.predict(test_scaled[:5]))\n",
        "proba = kn.predict_proba(test_scaled[:5]) #클래스별 확률값 반환\n",
        "print(np.round(proba,decimals=4))"
      ],
      "metadata": {
        "colab": {
          "base_uri": "https://localhost:8080/"
        },
        "id": "-ZGVDMZqDaUR",
        "outputId": "d94803bc-f221-49fd-f1c7-422667b4f954"
      },
      "execution_count": null,
      "outputs": [
        {
          "output_type": "stream",
          "name": "stdout",
          "text": [
            "['Bream' 'Parkki' 'Perch' 'Pike' 'Roach' 'Smelt' 'Whitefish']\n",
            "['Perch' 'Smelt' 'Pike' 'Perch' 'Perch']\n",
            "[[0.     0.     1.     0.     0.     0.     0.    ]\n",
            " [0.     0.     0.     0.     0.     1.     0.    ]\n",
            " [0.     0.     0.     1.     0.     0.     0.    ]\n",
            " [0.     0.     0.6667 0.     0.3333 0.     0.    ]\n",
            " [0.     0.     0.6667 0.     0.3333 0.     0.    ]]\n"
          ]
        }
      ]
    },
    {
      "cell_type": "markdown",
      "source": [
        "문제점: 3개의 최근접 이웃만을 사용하므로 변수가 적음<p><p>\n",
        "로지스틱 회귀: 선형 회귀와 동일하게 선형 방정식을 학습하되, 0~1 사이의 값을 리턴<p>\n",
        "$z$ = $a_1$*(Data1) + $a_2$*(Data2) + ... + $a_n$ <p>\n",
        "시그모이드 함수<p>\n",
        "$\\emptyset$ = $\\dfrac{1}{1+e^{-z}}$<p>\n"
      ],
      "metadata": {
        "id": "22YjrWGvJMm0"
      }
    },
    {
      "cell_type": "code",
      "source": [],
      "metadata": {
        "id": "m8xZ8xDra-z5"
      },
      "execution_count": null,
      "outputs": []
    },
    {
      "cell_type": "code",
      "source": [
        "#시그모이드 함수 그래프\n",
        "z = np.arange(-5,5,0.1)\n",
        "phi = 1 / (1+np.exp(-z))\n",
        "plt.plot(z,phi)\n",
        "plt.show()"
      ],
      "metadata": {
        "id": "V9gPBqcBMDTq"
      },
      "execution_count": null,
      "outputs": []
    },
    {
      "cell_type": "markdown",
      "source": [
        "불리언 인덱싱: True, False 값을 전달하여 행 선택"
      ],
      "metadata": {
        "id": "cprNphwXMiAa"
      }
    },
    {
      "cell_type": "code",
      "source": [
        "#불리언 인덱싱\n",
        "arr = np.array([1,2,3,4])\n",
        "print(arr[[True,False,False,True]])"
      ],
      "metadata": {
        "colab": {
          "base_uri": "https://localhost:8080/"
        },
        "id": "3m4d5CzQM-UJ",
        "outputId": "207b3579-2db2-4430-c7c5-42d1cbea1ac4"
      },
      "execution_count": null,
      "outputs": [
        {
          "output_type": "stream",
          "name": "stdout",
          "text": [
            "[1 4]\n"
          ]
        }
      ]
    },
    {
      "cell_type": "markdown",
      "source": [
        "이진 분류: ∅ = ?<p>음성 클래스 < 0.5 < 양성 클래스<p>"
      ],
      "metadata": {
        "id": "_Bmy9ksJXr5b"
      }
    },
    {
      "cell_type": "code",
      "source": [
        "bream_smelt_indexes = (train_target == 'Bream') | (train_target == 'Smelt') #Bream or Smelt 행만 골라내기 [T,T,F,F,...]\n",
        "train_bream_smelt = train_scaled[bream_smelt_indexes]\n",
        "target_bream_smelt = train_target[bream_smelt_indexes]\n",
        "\n",
        "lr = LogisticRegression()\n",
        "lr.fit(train_bream_smelt,target_bream_smelt)\n",
        "decisions = lr.decision_function(train_bream_smelt[:5]) #로지스틱 회귀에 따른 z값\n",
        "\n",
        "print(lr.predict(train_bream_smelt[:5]))\n",
        "print(lr.classes_ ,end = \" 음성, 양성\\n\")\n",
        "print(lr.predict_proba(train_bream_smelt[:5]))\n",
        "print(lr.coef_, lr.intercept_)\n",
        "print(decisions)\n",
        "print(expit(decisions)) #양성 확률값 출력"
      ],
      "metadata": {
        "colab": {
          "base_uri": "https://localhost:8080/"
        },
        "id": "XqOMkXhvM6F6",
        "outputId": "25cea15a-1394-4616-c62e-f3d804a1c407"
      },
      "execution_count": null,
      "outputs": [
        {
          "output_type": "stream",
          "name": "stdout",
          "text": [
            "['Bream' 'Smelt' 'Bream' 'Bream' 'Bream']\n",
            "['Bream' 'Smelt']음성, 양성\n",
            "[[0.99759855 0.00240145]\n",
            " [0.02735183 0.97264817]\n",
            " [0.99486072 0.00513928]\n",
            " [0.98584202 0.01415798]\n",
            " [0.99767269 0.00232731]]\n",
            "[[-0.4037798  -0.57620209 -0.66280298 -1.01290277 -0.73168947]] [-2.16155132]\n",
            "[-6.02927744  3.57123907 -5.26568906 -4.24321775 -6.0607117 ]\n",
            "[0.00240145 0.97264817 0.00513928 0.01415798 0.00232731]\n"
          ]
        }
      ]
    },
    {
      "cell_type": "markdown",
      "source": [
        "로지스틱 회귀에서의 다중 분류:<p>\n",
        "[C] 계수의 제곱 규제, C가 작을수록 규제가 커짐, 기본값 1<p>\n",
        "[max_iter] 반복 횟수 설정, 기본값 100<p>\n",
        "<p>"
      ],
      "metadata": {
        "id": "Wm1mpb0fQ03_"
      }
    },
    {
      "cell_type": "code",
      "source": [
        "lr = LogisticRegression(C = 20, max_iter = 1000)\n",
        "lr.fit(train_scaled, train_target)\n",
        "proba = lr.predict_proba(test_scaled[:5])\n",
        "\n",
        "print(lr.score(train_scaled, train_target))\n",
        "print(lr.score(test_scaled, test_target))\n",
        "print(lr.predict(test_scaled[:5]))\n",
        "print(lr.classes_)\n",
        "print(np.round(proba,decimals = 3))\n",
        "print(lr.coef_.shape, lr.intercept_.shape)"
      ],
      "metadata": {
        "colab": {
          "base_uri": "https://localhost:8080/"
        },
        "id": "JXcMLYUyRwEH",
        "outputId": "816a11fb-9e9c-45a0-87e4-437ceac27ff8"
      },
      "execution_count": null,
      "outputs": [
        {
          "output_type": "stream",
          "name": "stdout",
          "text": [
            "0.9327731092436975\n",
            "0.925\n",
            "['Perch' 'Smelt' 'Pike' 'Roach' 'Perch']\n",
            "['Bream' 'Parkki' 'Perch' 'Pike' 'Roach' 'Smelt' 'Whitefish']\n",
            "[[0.    0.014 0.841 0.    0.136 0.007 0.003]\n",
            " [0.    0.003 0.044 0.    0.007 0.946 0.   ]\n",
            " [0.    0.    0.034 0.935 0.015 0.016 0.   ]\n",
            " [0.011 0.034 0.306 0.007 0.567 0.    0.076]\n",
            " [0.    0.    0.904 0.002 0.089 0.002 0.001]]\n",
            "(7, 5) (7,)\n"
          ]
        }
      ]
    },
    {
      "cell_type": "markdown",
      "source": [
        "클래스마다 z값을 하나씩 계산 -> 소프트맥스 함수 사용 <p>\n",
        "$e_{sum} = e^{z1} + e^{z2} + ... + e^{z7}$ <p>\n",
        "$s1 = \\dfrac{e^{z1}}{e_{sum}}, s2 = \\dfrac{e^{z2}}{e_{sum}}, ...$<p>\n",
        "axis: 소프트맥스를 계산할 축 지정"
      ],
      "metadata": {
        "id": "DQfWNid7V8zJ"
      }
    },
    {
      "cell_type": "code",
      "source": [
        "decision = lr.decision_function(test_scaled[:5])\n",
        "proba = softmax(decision, axis=1)\n",
        "print(np.round(decision, decimals=2))\n",
        "print(np.round(proba,decimals=3))"
      ],
      "metadata": {
        "colab": {
          "base_uri": "https://localhost:8080/"
        },
        "id": "TdhSTm1dVxLH",
        "outputId": "7ca48d1d-8159-423f-ce38-08e75a05b4f1"
      },
      "execution_count": null,
      "outputs": [
        {
          "output_type": "stream",
          "name": "stdout",
          "text": [
            "[[ -6.5    1.03   5.16  -2.73   3.34   0.33  -0.63]\n",
            " [-10.86   1.93   4.77  -2.4    2.98   7.84  -4.26]\n",
            " [ -4.34  -6.23   3.17   6.49   2.36   2.42  -3.87]\n",
            " [ -0.68   0.45   2.65  -1.19   3.26  -5.75   1.26]\n",
            " [ -6.4   -1.99   5.82  -0.11   3.5   -0.11  -0.71]]\n",
            "[[0.    0.014 0.841 0.    0.136 0.007 0.003]\n",
            " [0.    0.003 0.044 0.    0.007 0.946 0.   ]\n",
            " [0.    0.    0.034 0.935 0.015 0.016 0.   ]\n",
            " [0.011 0.034 0.306 0.007 0.567 0.    0.076]\n",
            " [0.    0.    0.904 0.002 0.089 0.002 0.001]]\n"
          ]
        }
      ]
    }
  ]
}