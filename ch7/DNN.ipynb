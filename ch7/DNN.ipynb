{
  "nbformat": 4,
  "nbformat_minor": 0,
  "metadata": {
    "colab": {
      "provenance": []
    },
    "kernelspec": {
      "name": "python3",
      "display_name": "Python 3"
    },
    "language_info": {
      "name": "python"
    }
  },
  "cells": [
    {
      "cell_type": "code",
      "execution_count": 1,
      "metadata": {
        "id": "o_dFSSxj2fHt"
      },
      "outputs": [],
      "source": [
        "from tensorflow import keras\n",
        "from sklearn.model_selection import train_test_split"
      ]
    },
    {
      "cell_type": "code",
      "source": [
        "(train_input, train_target), (test_input, test_target) =\\\n",
        "  keras.datasets.fashion_mnist.load_data()\n",
        "train_scaled = train_input / 255.0\n",
        "train_scaled = train_scaled.reshape(-1,28*28)\n",
        "train_scaled, val_scaled, train_target, val_target = train_test_split(train_scaled, train_target, test_size=0.2, random_state=42)"
      ],
      "metadata": {
        "colab": {
          "base_uri": "https://localhost:8080/"
        },
        "id": "XiAjDLuJ2rHW",
        "outputId": "d0f42427-abb7-4c7d-ef7a-77cf00e760b8"
      },
      "execution_count": 2,
      "outputs": [
        {
          "output_type": "stream",
          "name": "stdout",
          "text": [
            "Downloading data from https://storage.googleapis.com/tensorflow/tf-keras-datasets/train-labels-idx1-ubyte.gz\n",
            "29515/29515 [==============================] - 0s 0us/step\n",
            "Downloading data from https://storage.googleapis.com/tensorflow/tf-keras-datasets/train-images-idx3-ubyte.gz\n",
            "26421880/26421880 [==============================] - 0s 0us/step\n",
            "Downloading data from https://storage.googleapis.com/tensorflow/tf-keras-datasets/t10k-labels-idx1-ubyte.gz\n",
            "5148/5148 [==============================] - 0s 0us/step\n",
            "Downloading data from https://storage.googleapis.com/tensorflow/tf-keras-datasets/t10k-images-idx3-ubyte.gz\n",
            "4422102/4422102 [==============================] - 0s 0us/step\n"
          ]
        }
      ]
    },
    {
      "cell_type": "markdown",
      "source": [
        "**은닉층**<br>\n",
        "입력층과 출력층 사이에 있는 모든 층\n",
        " * 분류: 클래스에 대한 확률을 출력하므로 활성화 함수 사용 (시그모이드, 렐루 함수 등)<br>\n",
        "  모든 특성이 어느 정도 역할을 할 수 있도록 보장함\n",
        " * 회귀: 선형 방정식의 계산을 그대로 출력하므로 활성화 함수가 필요 없음\n",
        "\n"
      ],
      "metadata": {
        "id": "xoL7Yp0437xW"
      }
    },
    {
      "cell_type": "code",
      "source": [
        "dense1 = keras.layers.Dense(100, activation='sigmoid', input_shape=(784,))        #은닉층\n",
        "dense2 = keras.layers.Dense(10, activation='softmax', name='out')                 #출력층\n",
        "model = keras.Sequential([dense1, dense2])\n",
        "model.summary()"
      ],
      "metadata": {
        "colab": {
          "base_uri": "https://localhost:8080/"
        },
        "id": "3TnGc0gu5eWm",
        "outputId": "28a5d8a1-b528-4dde-aedc-1e958515ee4e"
      },
      "execution_count": 5,
      "outputs": [
        {
          "output_type": "stream",
          "name": "stdout",
          "text": [
            "Model: \"sequential_2\"\n",
            "_________________________________________________________________\n",
            " Layer (type)                Output Shape              Param #   \n",
            "=================================================================\n",
            " dense_3 (Dense)             (None, 100)               78500     \n",
            "                                                                 \n",
            " out (Dense)                 (None, 10)                1010      \n",
            "                                                                 \n",
            "=================================================================\n",
            "Total params: 79510 (310.59 KB)\n",
            "Trainable params: 79510 (310.59 KB)\n",
            "Non-trainable params: 0 (0.00 Byte)\n",
            "_________________________________________________________________\n"
          ]
        }
      ]
    },
    {
      "cell_type": "markdown",
      "source": [
        "**summary()**<br>\n",
        "* Output Shape에서 첫 차원(배치 차원) = 샘플 개수<br>\n",
        "기본적으로 미니배치 경사 하강법을 수행하는 모델<br>\n",
        "* Output Shape에서 둘째 차원 = 뉴런 개수\n",
        "* Param: 모델 파라미터 개수<br>\n",
        "이전 층 뉴런 개수 \\* 현재 층 뉴런 개수 + 현재 층의 절편<br>\n",
        "ex: Layer dense_n: (28\\*28) \\* 100 + 100 = 78500<br>\n",
        "&emsp; Layer 'out': 100 \\* 10 + 10 = 1010"
      ],
      "metadata": {
        "id": "zZhhk-3_7TbC"
      }
    },
    {
      "cell_type": "code",
      "source": [
        "model = keras.Sequential([\n",
        "    keras.layers.Dense(100, activation='sigmoid', input_shape=(784,), name='hidden'),\n",
        "    keras.layers.Dense(10, activation='softmax', name='output')\n",
        "], name = 'aaaaaaaaaaaaaaaaaaaaaaa')\n",
        "model.summary()"
      ],
      "metadata": {
        "colab": {
          "base_uri": "https://localhost:8080/"
        },
        "id": "UwZ62YKN8-a7",
        "outputId": "0ac3d3f1-d8ea-49b8-84e7-307b4c6c8c68"
      },
      "execution_count": 6,
      "outputs": [
        {
          "output_type": "stream",
          "name": "stdout",
          "text": [
            "Model: \"aaaaaaaaaaaaaaaaaaaaaaa\"\n",
            "_________________________________________________________________\n",
            " Layer (type)                Output Shape              Param #   \n",
            "=================================================================\n",
            " hidden (Dense)              (None, 100)               78500     \n",
            "                                                                 \n",
            " output (Dense)              (None, 10)                1010      \n",
            "                                                                 \n",
            "=================================================================\n",
            "Total params: 79510 (310.59 KB)\n",
            "Trainable params: 79510 (310.59 KB)\n",
            "Non-trainable params: 0 (0.00 Byte)\n",
            "_________________________________________________________________\n"
          ]
        }
      ]
    },
    {
      "cell_type": "code",
      "source": [
        "model = keras.Sequential()\n",
        "model.add(keras.layers.Dense(100, activation='sigmoid', input_shape=(784,), name='hidden'))\n",
        "model.add(keras.layers.Dense(10, activation='softmax', name='output'))\n",
        "model.summary()"
      ],
      "metadata": {
        "colab": {
          "base_uri": "https://localhost:8080/"
        },
        "id": "gbHMxzzy9j08",
        "outputId": "3076b631-e87c-4765-feb9-ad5247b26bad"
      },
      "execution_count": 7,
      "outputs": [
        {
          "output_type": "stream",
          "name": "stdout",
          "text": [
            "Model: \"sequential_3\"\n",
            "_________________________________________________________________\n",
            " Layer (type)                Output Shape              Param #   \n",
            "=================================================================\n",
            " hidden (Dense)              (None, 100)               78500     \n",
            "                                                                 \n",
            " output (Dense)              (None, 10)                1010      \n",
            "                                                                 \n",
            "=================================================================\n",
            "Total params: 79510 (310.59 KB)\n",
            "Trainable params: 79510 (310.59 KB)\n",
            "Non-trainable params: 0 (0.00 Byte)\n",
            "_________________________________________________________________\n"
          ]
        }
      ]
    },
    {
      "cell_type": "code",
      "source": [
        "model.compile(loss='sparse_categorical_crossentropy', metrics='accuracy')\n",
        "model.fit(train_scaled, train_target, epochs=5)"
      ],
      "metadata": {
        "colab": {
          "base_uri": "https://localhost:8080/"
        },
        "id": "QFmX8qnO9uUj",
        "outputId": "932874f3-73dc-48a6-b4b2-cfd7d855af67"
      },
      "execution_count": 9,
      "outputs": [
        {
          "output_type": "stream",
          "name": "stdout",
          "text": [
            "Epoch 1/5\n",
            "1500/1500 [==============================] - 6s 4ms/step - loss: 0.5711 - accuracy: 0.8060\n",
            "Epoch 2/5\n",
            "1500/1500 [==============================] - 4s 3ms/step - loss: 0.4110 - accuracy: 0.8521\n",
            "Epoch 3/5\n",
            "1500/1500 [==============================] - 4s 3ms/step - loss: 0.3770 - accuracy: 0.8640\n",
            "Epoch 4/5\n",
            "1500/1500 [==============================] - 6s 4ms/step - loss: 0.3538 - accuracy: 0.8717\n",
            "Epoch 5/5\n",
            "1500/1500 [==============================] - 4s 3ms/step - loss: 0.3366 - accuracy: 0.8781\n"
          ]
        },
        {
          "output_type": "execute_result",
          "data": {
            "text/plain": [
              "<keras.src.callbacks.History at 0x7ee79e932290>"
            ]
          },
          "metadata": {},
          "execution_count": 9
        }
      ]
    },
    {
      "cell_type": "markdown",
      "source": [
        "**렐루 함수**<br>\n",
        "Rectified Linear Unit = max(0,z)\n",
        "![image.png](data:image/png;base64,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)"
      ],
      "metadata": {
        "id": "QWygg1ki-D93"
      }
    },
    {
      "cell_type": "code",
      "source": [
        "model = keras.Sequential()\n",
        "model.add(keras.layers.Flatten(input_shape=(28,28)))                              #입력 차원을 일렬로 펼치는 역할, 사실상 reshape(-1,28*28)과 같음 / 이를 층처럼 입력층과 은닉층 사이에 추가\n",
        "model.add(keras.layers.Dense(100, activation='relu', name='hidden'))\n",
        "model.add(keras.layers.Dense(10, activation='softmax', name='output'))\n",
        "model.summary()"
      ],
      "metadata": {
        "colab": {
          "base_uri": "https://localhost:8080/"
        },
        "id": "SHugS6OX-yII",
        "outputId": "1cc28027-5dd3-4234-b4e4-277e303a5ac8"
      },
      "execution_count": 10,
      "outputs": [
        {
          "output_type": "stream",
          "name": "stdout",
          "text": [
            "Model: \"sequential_4\"\n",
            "_________________________________________________________________\n",
            " Layer (type)                Output Shape              Param #   \n",
            "=================================================================\n",
            " flatten (Flatten)           (None, 784)               0         \n",
            "                                                                 \n",
            " hidden (Dense)              (None, 100)               78500     \n",
            "                                                                 \n",
            " output (Dense)              (None, 10)                1010      \n",
            "                                                                 \n",
            "=================================================================\n",
            "Total params: 79510 (310.59 KB)\n",
            "Trainable params: 79510 (310.59 KB)\n",
            "Non-trainable params: 0 (0.00 Byte)\n",
            "_________________________________________________________________\n"
          ]
        }
      ]
    },
    {
      "cell_type": "code",
      "source": [
        "(train_input, train_target), (test_input, test_target) =\\\n",
        "  keras.datasets.fashion_mnist.load_data()\n",
        "train_scaled = train_input / 255.0\n",
        "#train_scaled = train_scaled.reshape(-1,28*28)\n",
        "train_scaled, val_scaled, train_target, val_target = train_test_split(train_scaled, train_target, test_size=0.2, random_state=42)"
      ],
      "metadata": {
        "id": "aLdRXm1Z_fuF"
      },
      "execution_count": 11,
      "outputs": []
    },
    {
      "cell_type": "code",
      "source": [
        "model.compile(loss='sparse_categorical_crossentropy', metrics='accuracy')\n",
        "model.fit(train_scaled, train_target, epochs=5)\n",
        "model.evaluate(val_scaled, val_target)"
      ],
      "metadata": {
        "colab": {
          "base_uri": "https://localhost:8080/"
        },
        "id": "voEre5ZO_heC",
        "outputId": "d8d3ae4b-6ca2-42f6-d2eb-992961865ba2"
      },
      "execution_count": 12,
      "outputs": [
        {
          "output_type": "stream",
          "name": "stdout",
          "text": [
            "Epoch 1/5\n",
            "1500/1500 [==============================] - 6s 4ms/step - loss: 0.5383 - accuracy: 0.8104\n",
            "Epoch 2/5\n",
            "1500/1500 [==============================] - 4s 3ms/step - loss: 0.3943 - accuracy: 0.8591\n",
            "Epoch 3/5\n",
            "1500/1500 [==============================] - 4s 3ms/step - loss: 0.3531 - accuracy: 0.8714\n",
            "Epoch 4/5\n",
            "1500/1500 [==============================] - 8s 5ms/step - loss: 0.3341 - accuracy: 0.8807\n",
            "Epoch 5/5\n",
            "1500/1500 [==============================] - 7s 5ms/step - loss: 0.3179 - accuracy: 0.8862\n"
          ]
        },
        {
          "output_type": "execute_result",
          "data": {
            "text/plain": [
              "<keras.src.callbacks.History at 0x7ee79af202b0>"
            ]
          },
          "metadata": {},
          "execution_count": 12
        }
      ]
    },
    {
      "cell_type": "markdown",
      "source": [
        "**하이퍼파라미터**<br>\n",
        " * 밀집층\n",
        "  * 은닉층의 개수\n",
        "  * 은닉층 각각의 뉴런 개수\n",
        "  * 층 각각의 활성화 함수\n",
        " * 경사 하강법\n",
        "  * 미니배치 개수\n",
        "  * 에포크 횟수\n",
        "  * 옵티마이저 (다양한 종류의 경사 하강법 알고리즘; 기본 = RMSprop)\n",
        "  * 학습률\n"
      ],
      "metadata": {
        "id": "fp14Gg7N_7uL"
      }
    },
    {
      "cell_type": "markdown",
      "source": [
        "**옵티마이저**<br>\n",
        "기본 경사 하강법 옵티마이저\n",
        " * SGD\n",
        " * 모멘텀 최적화 (이전의 그레이디언트를 가속도처럼 사용)\n",
        " * 네스테로프 모멘텀 최적화 (모멘텀 최적화 x2)\n",
        "\n",
        "적응적 학습률 옵티마이저 - 최적점에 가까이 갈수록 학습률을 낮춤\n",
        " * RMSprop\n",
        " * Adagrad\n",
        " * Adam (모멘텀 최적화 + RMSprop)"
      ],
      "metadata": {
        "id": "oQ0XK_oPCH2o"
      }
    },
    {
      "cell_type": "code",
      "source": [
        "#model.compile(optimizer='sgd', loss='sparse_categorical_crossentropy', metrics='accuracy') # 'sgd' -> 자동으로 SGD 객체를 만듦\n",
        "sgd = keras.optimizers.SGD(learning_rate = 0.1, nestrov = True)\n",
        "adagrad = keras.optimizers.Adagrad()\n",
        "rmsprop = keras.optimizers.RMSprop()\n",
        "model.compile(optimizer=sgd, loss='sparse_categorical_crossentropy', metrics='accuracy')\n"
      ],
      "metadata": {
        "id": "lN4T_JUqA3XX"
      },
      "execution_count": null,
      "outputs": []
    },
    {
      "cell_type": "code",
      "source": [
        "model = keras.Sequential()\n",
        "model.add(keras.layers.Flatten(input_shape=(28,28)))\n",
        "model.add(keras.layers.Dense(100, activation='relu', name='hidden'))\n",
        "model.add(keras.layers.Dense(10, activation='softmax', name='output'))"
      ],
      "metadata": {
        "id": "Jd86ptukDJj5"
      },
      "execution_count": 13,
      "outputs": []
    },
    {
      "cell_type": "code",
      "source": [
        "model.compile(optimizer='adam', loss='sparse_categorical_crossentropy', metrics='accuracy')\n",
        "model.fit(train_scaled, train_target, epochs=5)\n",
        "model.evaluate(val_scaled, val_target)"
      ],
      "metadata": {
        "colab": {
          "base_uri": "https://localhost:8080/"
        },
        "id": "swDkEn-mDRWZ",
        "outputId": "20ffd713-380f-44c4-842f-4873094acf7a"
      },
      "execution_count": 14,
      "outputs": [
        {
          "output_type": "stream",
          "name": "stdout",
          "text": [
            "Epoch 1/5\n",
            "1500/1500 [==============================] - 6s 4ms/step - loss: 0.5165 - accuracy: 0.8192\n",
            "Epoch 2/5\n",
            "1500/1500 [==============================] - 6s 4ms/step - loss: 0.3915 - accuracy: 0.8586\n",
            "Epoch 3/5\n",
            "1500/1500 [==============================] - 5s 3ms/step - loss: 0.3528 - accuracy: 0.8714\n",
            "Epoch 4/5\n",
            "1500/1500 [==============================] - 6s 4ms/step - loss: 0.3261 - accuracy: 0.8805\n",
            "Epoch 5/5\n",
            "1500/1500 [==============================] - 5s 3ms/step - loss: 0.3051 - accuracy: 0.8888\n",
            "375/375 [==============================] - 1s 2ms/step - loss: 0.3526 - accuracy: 0.8746\n"
          ]
        },
        {
          "output_type": "execute_result",
          "data": {
            "text/plain": [
              "[0.35256487131118774, 0.8745833039283752]"
            ]
          },
          "metadata": {},
          "execution_count": 14
        }
      ]
    }
  ]
}